{
 "cells": [
  {
   "cell_type": "code",
   "execution_count": 3,
   "metadata": {},
   "outputs": [],
   "source": [
    "\n",
    "from starbase import Connection\n",
    "\n",
    "c = Connection(\"127.0.0.1\", \"8000\")"
   ]
  },
  {
   "cell_type": "code",
   "execution_count": null,
   "metadata": {},
   "outputs": [],
   "source": [
    "\n",
    "# create table named ratings\n",
    "ratings = c.table('ratings')\n",
    "\n",
    "\n",
    "# if table named ratings already exixts in the DB, delete it\n",
    "if (ratings.exists()):\n",
    "\tprint(\"Dropping exisiting ratings table \\n\")\n",
    "\tratings.drop()\n"
   ]
  },
  {
   "cell_type": "code",
   "execution_count": null,
   "metadata": {},
   "outputs": [],
   "source": [
    "\n",
    "# create column family called rating in the ratings table\n",
    "ratings.create('rating')\n",
    " \n",
    "\n",
    "print(\"Parsing the ml-100k ratings data...... \\n\")\n",
    "ratingFile = open('u.data', 'r')\n",
    "\n",
    "\n",
    "# create batch object from the inbuilt function\n",
    "batch = ratings.batch()\n",
    "\n"
   ]
  },
  {
   "cell_type": "code",
   "execution_count": null,
   "metadata": {},
   "outputs": [],
   "source": [
    "\n",
    "# update the batch with new rows from the loaded data\n",
    "# outputs a primary key with column named userID \n",
    "# And a tuple having movieID & rating in the column family called rating \n",
    "for line in ratingFile:\n",
    "\t(userID, movieID, rating, timestamp) = line.split()\n",
    "\tbatch.update(userID, {'rating': {movieID: rating}})\n"
   ]
  },
  {
   "cell_type": "code",
   "execution_count": null,
   "metadata": {},
   "outputs": [],
   "source": [
    "\n",
    "ratingFile.close()\n",
    "\n",
    "\n",
    "\n",
    "print(\"Commiting ratings data to HBase via REST service \\n\")\n",
    "batch.commit(finalize=True)\n",
    "\n",
    "\n",
    "\n",
    "print(\"Ratings for UserID 1: \\n\")\n",
    "print(ratings.fetch(\"1\"))\n",
    "print(\"Ratings for UserID 2: \\n\")\n",
    "print(ratings.fetch(\"33\"))"
   ]
  },
  {
   "cell_type": "code",
   "execution_count": null,
   "metadata": {},
   "outputs": [],
   "source": []
  }
 ],
 "metadata": {
  "kernelspec": {
   "display_name": "Python 3",
   "language": "python",
   "name": "python3"
  },
  "language_info": {
   "codemirror_mode": {
    "name": "ipython",
    "version": 3
   },
   "file_extension": ".py",
   "mimetype": "text/x-python",
   "name": "python",
   "nbconvert_exporter": "python",
   "pygments_lexer": "ipython3",
   "version": "3.6.7"
  }
 },
 "nbformat": 4,
 "nbformat_minor": 2
}
