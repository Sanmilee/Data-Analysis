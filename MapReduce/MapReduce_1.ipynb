{
 "cells": [
  {
   "cell_type": "markdown",
   "metadata": {},
   "source": [
    "# Hadoop MapReduce\n",
    "\n",
    "### sum of each ratings from 1 - 5\n",
    "#### Data: Movielen 100k"
   ]
  },
  {
   "cell_type": "code",
   "execution_count": 3,
   "metadata": {},
   "outputs": [
    {
     "name": "stdout",
     "output_type": "stream",
     "text": [
      "Overwriting RatingsBreakdown.py\n"
     ]
    }
   ],
   "source": [
    "%%file RatingsBreakdown.py \n",
    "\n",
    "# import the mrjob library\n",
    "from mrjob.job import MRJob\n",
    "from mrjob.step import MRStep\n",
    "\n",
    "\n",
    "class RatingsBreakdown(MRJob):\n",
    "    \n",
    "    def steps(self):\n",
    "        return [\n",
    "            MRStep(mapper=self.mapper_get_ratings,\n",
    "                   reducer=self.reducer_count_ratings)\n",
    "        ]\n",
    "\n",
    "    \n",
    "    def mapper_get_ratings(self, _, line):\n",
    "        (userID, movieID, rating, timestamp) = line.split('\\t')\n",
    "        yield rating, 1\n",
    "\n",
    "        \n",
    "    def reducer_count_ratings(self, key, values):\n",
    "        yield key, sum(values)\n",
    "\n",
    "        \n",
    "if __name__ == '__main__':\n",
    "    RatingsBreakdown.run()"
   ]
  },
  {
   "cell_type": "code",
   "execution_count": 4,
   "metadata": {},
   "outputs": [
    {
     "name": "stdout",
     "output_type": "stream",
     "text": [
      "\"1\"\t6110\n",
      "\"2\"\t11370\n",
      "\"3\"\t27145\n",
      "\"4\"\t34174\n",
      "\"5\"\t21201\n"
     ]
    },
    {
     "name": "stderr",
     "output_type": "stream",
     "text": [
      "No configs found; falling back on auto-configuration\n",
      "No configs specified for inline runner\n",
      "Creating temp directory C:\\Temp\\RatingsBreakdown.Lord Sanmilee.20200518.154409.439649\n",
      "Running step 1 of 1...\n",
      "job output is in C:\\Temp\\RatingsBreakdown.Lord Sanmilee.20200518.154409.439649\\output\n",
      "Streaming final output from C:\\Temp\\RatingsBreakdown.Lord Sanmilee.20200518.154409.439649\\output...\n",
      "Removing temp directory C:\\Temp\\RatingsBreakdown.Lord Sanmilee.20200518.154409.439649...\n"
     ]
    }
   ],
   "source": [
    "# run the code as a terminal command\n",
    "! python RatingsBreakdown.py u.data"
   ]
  }
 ],
 "metadata": {
  "kernelspec": {
   "display_name": "Python 3",
   "language": "python",
   "name": "python3"
  },
  "language_info": {
   "codemirror_mode": {
    "name": "ipython",
    "version": 3
   },
   "file_extension": ".py",
   "mimetype": "text/x-python",
   "name": "python",
   "nbconvert_exporter": "python",
   "pygments_lexer": "ipython3",
   "version": "3.6.7"
  }
 },
 "nbformat": 4,
 "nbformat_minor": 2
}
