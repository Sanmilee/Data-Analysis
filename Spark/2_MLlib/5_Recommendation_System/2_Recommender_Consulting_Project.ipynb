{
 "cells": [
  {
   "cell_type": "markdown",
   "metadata": {},
   "source": [
    "# Consulting Project \n"
   ]
  },
  {
   "cell_type": "markdown",
   "metadata": {},
   "source": [
    "You've just taken up a new contract with a new online food delivery company. This company is trying to recommend new meals to customers based off of other customers likings.\n",
    "\n",
    "Your final result should be in the form of a function that can take in a Spark DataFrame of a single customer's ratings for various meals and output their top 3 suggested meals. "
   ]
  },
  {
   "cell_type": "code",
   "execution_count": 1,
   "metadata": {},
   "outputs": [],
   "source": [
    "from pyspark.sql import SparkSession"
   ]
  },
  {
   "cell_type": "code",
   "execution_count": 2,
   "metadata": {},
   "outputs": [],
   "source": [
    "spark = SparkSession.builder.appName('recconsulting').getOrCreate()"
   ]
  },
  {
   "cell_type": "code",
   "execution_count": 4,
   "metadata": {},
   "outputs": [],
   "source": [
    "data = spark.read.csv('Meal_Info.csv', inferSchema=True, header=True)"
   ]
  },
  {
   "cell_type": "code",
   "execution_count": 5,
   "metadata": {},
   "outputs": [],
   "source": [
    "(training, test) = data.randomSplit([0.8, 0.2])"
   ]
  },
  {
   "cell_type": "code",
   "execution_count": 6,
   "metadata": {},
   "outputs": [],
   "source": [
    "from pyspark.ml.evaluation import RegressionEvaluator\n",
    "\n",
    "from pyspark.ml.recommendation import ALS"
   ]
  },
  {
   "cell_type": "code",
   "execution_count": 7,
   "metadata": {},
   "outputs": [],
   "source": [
    "# Build the recommendation model using ALS on the training data\n",
    "\n",
    "als = ALS(maxIter=5, regParam=0.01, userCol=\"userId\", itemCol=\"mealskew\", ratingCol=\"rating\")\n",
    "\n",
    "model = als.fit(training)\n"
   ]
  },
  {
   "cell_type": "code",
   "execution_count": 8,
   "metadata": {},
   "outputs": [
    {
     "name": "stdout",
     "output_type": "stream",
     "text": [
      "+-------+------+------+--------+-------------+----------+\n",
      "|movieId|rating|userId|mealskew|    meal_name|prediction|\n",
      "+-------+------+------+--------+-------------+----------+\n",
      "|     35|     1|    26|      31|Cowboy Burger| 1.9128718|\n",
      "|     40|     1|    26|      31|Cowboy Burger| 1.9128718|\n",
      "|     45|     2|    26|      31|Cowboy Burger| 1.9128718|\n",
      "|     49|     3|    26|      31|Cowboy Burger| 1.9128718|\n",
      "|     50|     2|    26|      31|Cowboy Burger| 1.9128718|\n",
      "|     52|     1|    26|      31|Cowboy Burger| 1.9128718|\n",
      "|     54|     4|    26|      31|Cowboy Burger| 1.9128718|\n",
      "|     62|     2|    26|      31|Cowboy Burger| 1.9128718|\n",
      "|     68|     4|    26|      31|Cowboy Burger| 1.9128718|\n",
      "|     81|     3|    26|      31|Cowboy Burger| 1.9128718|\n",
      "|     97|     1|    26|      31|Cowboy Burger| 1.9128718|\n",
      "|     45|     1|    27|      31|Cowboy Burger| 1.5182668|\n",
      "|     51|     3|    27|      31|Cowboy Burger| 1.5182668|\n",
      "|     55|     3|    27|      31|Cowboy Burger| 1.5182668|\n",
      "|     64|     1|    27|      31|Cowboy Burger| 1.5182668|\n",
      "|     70|     1|    27|      31|Cowboy Burger| 1.5182668|\n",
      "|     78|     1|    27|      31|Cowboy Burger| 1.5182668|\n",
      "|     80|     3|    27|      31|Cowboy Burger| 1.5182668|\n",
      "|     90|     1|    27|      31|Cowboy Burger| 1.5182668|\n",
      "|     98|     1|    27|      31|Cowboy Burger| 1.5182668|\n",
      "+-------+------+------+--------+-------------+----------+\n",
      "only showing top 20 rows\n",
      "\n",
      "Root-mean-square error = 1.464825112371923\n"
     ]
    }
   ],
   "source": [
    "# Evaluate the model by computing the RMSE on the test data\n",
    "predictions = model.transform(test)\n",
    "\n",
    "predictions.show()\n",
    "\n",
    "evaluator = RegressionEvaluator(metricName=\"rmse\", labelCol=\"rating\",predictionCol=\"prediction\")\n",
    "rmse = evaluator.evaluate(predictions)\n",
    "print(\"Root-mean-square error = \" + str(rmse))"
   ]
  },
  {
   "cell_type": "code",
   "execution_count": null,
   "metadata": {},
   "outputs": [],
   "source": []
  }
 ],
 "metadata": {
  "anaconda-cloud": {},
  "kernelspec": {
   "display_name": "Python 3",
   "language": "python",
   "name": "python3"
  },
  "language_info": {
   "codemirror_mode": {
    "name": "ipython",
    "version": 3
   },
   "file_extension": ".py",
   "mimetype": "text/x-python",
   "name": "python",
   "nbconvert_exporter": "python",
   "pygments_lexer": "ipython3",
   "version": "3.6.5"
  }
 },
 "nbformat": 4,
 "nbformat_minor": 1
}
