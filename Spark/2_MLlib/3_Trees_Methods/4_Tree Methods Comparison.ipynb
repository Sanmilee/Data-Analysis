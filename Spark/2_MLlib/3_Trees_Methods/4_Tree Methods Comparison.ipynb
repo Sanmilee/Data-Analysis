{
 "cells": [
  {
   "cell_type": "markdown",
   "metadata": {},
   "source": [
    "# Tree Methods Comparison\n",
    "\n",
    "In this lecture we will code along with some data and test out 3 different tree methods:\n",
    "\n",
    "* A single decision tree\n",
    "* A random forest\n",
    "* A gradient boosted tree classifier\n",
    "    \n",
    "We will be using a college dataset to try to classify colleges as Private or Public"
   ]
  },
  {
   "cell_type": "code",
   "execution_count": 1,
   "metadata": {},
   "outputs": [],
   "source": [
    "from pyspark.sql import SparkSession\n",
    "spark = SparkSession.builder.appName('treeCodes').getOrCreate()"
   ]
  },
  {
   "cell_type": "code",
   "execution_count": 2,
   "metadata": {},
   "outputs": [],
   "source": [
    "# Load training data\n",
    "data = spark.read.csv('College.csv',inferSchema=True,header=True)"
   ]
  },
  {
   "cell_type": "code",
   "execution_count": 3,
   "metadata": {},
   "outputs": [
    {
     "name": "stdout",
     "output_type": "stream",
     "text": [
      "root\n",
      " |-- School: string (nullable = true)\n",
      " |-- Private: string (nullable = true)\n",
      " |-- Apps: integer (nullable = true)\n",
      " |-- Accept: integer (nullable = true)\n",
      " |-- Enroll: integer (nullable = true)\n",
      " |-- Top10perc: integer (nullable = true)\n",
      " |-- Top25perc: integer (nullable = true)\n",
      " |-- F_Undergrad: integer (nullable = true)\n",
      " |-- P_Undergrad: integer (nullable = true)\n",
      " |-- Outstate: integer (nullable = true)\n",
      " |-- Room_Board: integer (nullable = true)\n",
      " |-- Books: integer (nullable = true)\n",
      " |-- Personal: integer (nullable = true)\n",
      " |-- PhD: integer (nullable = true)\n",
      " |-- Terminal: integer (nullable = true)\n",
      " |-- S_F_Ratio: double (nullable = true)\n",
      " |-- perc_alumni: integer (nullable = true)\n",
      " |-- Expend: integer (nullable = true)\n",
      " |-- Grad_Rate: integer (nullable = true)\n",
      "\n"
     ]
    }
   ],
   "source": [
    "data.printSchema()"
   ]
  },
  {
   "cell_type": "code",
   "execution_count": 4,
   "metadata": {},
   "outputs": [
    {
     "data": {
      "text/plain": [
       "Row(School='Abilene Christian University', Private='Yes', Apps=1660, Accept=1232, Enroll=721, Top10perc=23, Top25perc=52, F_Undergrad=2885, P_Undergrad=537, Outstate=7440, Room_Board=3300, Books=450, Personal=2200, PhD=70, Terminal=78, S_F_Ratio=18.1, perc_alumni=12, Expend=7041, Grad_Rate=60)"
      ]
     },
     "execution_count": 4,
     "metadata": {},
     "output_type": "execute_result"
    }
   ],
   "source": [
    "data.head()"
   ]
  },
  {
   "cell_type": "markdown",
   "metadata": {},
   "source": [
    "### Spark Formatting of Data"
   ]
  },
  {
   "cell_type": "code",
   "execution_count": 5,
   "metadata": {},
   "outputs": [],
   "source": [
    "# It needs to be in the form of two columns\n",
    "# (\"label\",\"features\")\n",
    "\n",
    "# Import VectorAssembler and Vectors\n",
    "from pyspark.ml.linalg import Vectors\n",
    "from pyspark.ml.feature import VectorAssembler"
   ]
  },
  {
   "cell_type": "code",
   "execution_count": 6,
   "metadata": {},
   "outputs": [
    {
     "data": {
      "text/plain": [
       "['School',\n",
       " 'Private',\n",
       " 'Apps',\n",
       " 'Accept',\n",
       " 'Enroll',\n",
       " 'Top10perc',\n",
       " 'Top25perc',\n",
       " 'F_Undergrad',\n",
       " 'P_Undergrad',\n",
       " 'Outstate',\n",
       " 'Room_Board',\n",
       " 'Books',\n",
       " 'Personal',\n",
       " 'PhD',\n",
       " 'Terminal',\n",
       " 'S_F_Ratio',\n",
       " 'perc_alumni',\n",
       " 'Expend',\n",
       " 'Grad_Rate']"
      ]
     },
     "execution_count": 6,
     "metadata": {},
     "output_type": "execute_result"
    }
   ],
   "source": [
    "data.columns"
   ]
  },
  {
   "cell_type": "code",
   "execution_count": 7,
   "metadata": {},
   "outputs": [],
   "source": [
    "assembler = VectorAssembler(\n",
    "  inputCols=['Apps',\n",
    "             'Accept',\n",
    "             'Enroll',\n",
    "             'Top10perc',\n",
    "             'Top25perc',\n",
    "             'F_Undergrad',\n",
    "             'P_Undergrad',\n",
    "             'Outstate',\n",
    "             'Room_Board',\n",
    "             'Books',\n",
    "             'Personal',\n",
    "             'PhD',\n",
    "             'Terminal',\n",
    "             'S_F_Ratio',\n",
    "             'perc_alumni',\n",
    "             'Expend',\n",
    "             'Grad_Rate'],\n",
    "              outputCol=\"features\")"
   ]
  },
  {
   "cell_type": "code",
   "execution_count": 8,
   "metadata": {},
   "outputs": [],
   "source": [
    "output = assembler.transform(data)"
   ]
  },
  {
   "cell_type": "markdown",
   "metadata": {},
   "source": [
    "Deal with Private column being \"yes\" or \"no\""
   ]
  },
  {
   "cell_type": "code",
   "execution_count": 9,
   "metadata": {},
   "outputs": [],
   "source": [
    "from pyspark.ml.feature import StringIndexer"
   ]
  },
  {
   "cell_type": "code",
   "execution_count": 10,
   "metadata": {},
   "outputs": [],
   "source": [
    "indexer = StringIndexer(inputCol=\"Private\", outputCol=\"PrivateIndex\")\n",
    "output_fixed = indexer.fit(output).transform(output)"
   ]
  },
  {
   "cell_type": "code",
   "execution_count": 11,
   "metadata": {},
   "outputs": [],
   "source": [
    "final_data = output_fixed.select(\"features\",'PrivateIndex')"
   ]
  },
  {
   "cell_type": "code",
   "execution_count": 13,
   "metadata": {},
   "outputs": [],
   "source": [
    "train_data, test_data = final_data.randomSplit([0.7, 0.3])"
   ]
  },
  {
   "cell_type": "markdown",
   "metadata": {},
   "source": [
    "### The Classifiers"
   ]
  },
  {
   "cell_type": "code",
   "execution_count": 14,
   "metadata": {},
   "outputs": [],
   "source": [
    "from pyspark.ml.classification import DecisionTreeClassifier,GBTClassifier,RandomForestClassifier\n",
    "from pyspark.ml import Pipeline"
   ]
  },
  {
   "cell_type": "markdown",
   "metadata": {},
   "source": [
    "Create all three models:"
   ]
  },
  {
   "cell_type": "code",
   "execution_count": 15,
   "metadata": {},
   "outputs": [],
   "source": [
    "# Use mostly defaults to make this comparison \"fair\"\n",
    "\n",
    "dtc = DecisionTreeClassifier(labelCol='PrivateIndex',featuresCol='features')\n",
    "rfc = RandomForestClassifier(labelCol='PrivateIndex',featuresCol='features')\n",
    "gbt = GBTClassifier(labelCol='PrivateIndex',featuresCol='features')"
   ]
  },
  {
   "cell_type": "markdown",
   "metadata": {},
   "source": [
    "Train all three models:"
   ]
  },
  {
   "cell_type": "code",
   "execution_count": 16,
   "metadata": {},
   "outputs": [],
   "source": [
    "# Train the models (its three models, so it might take some time)\n",
    "dtc_model = dtc.fit(train_data)\n",
    "rfc_model = rfc.fit(train_data)\n",
    "gbt_model = gbt.fit(train_data)"
   ]
  },
  {
   "cell_type": "markdown",
   "metadata": {},
   "source": [
    "## Model Comparison\n",
    "\n",
    "Let's compare each of these models!"
   ]
  },
  {
   "cell_type": "code",
   "execution_count": 17,
   "metadata": {},
   "outputs": [],
   "source": [
    "dtc_predictions = dtc_model.transform(test_data)\n",
    "rfc_predictions = rfc_model.transform(test_data)\n",
    "gbt_predictions = gbt_model.transform(test_data)"
   ]
  },
  {
   "cell_type": "markdown",
   "metadata": {},
   "source": [
    "**Evaluation Metrics:**"
   ]
  },
  {
   "cell_type": "code",
   "execution_count": 18,
   "metadata": {},
   "outputs": [],
   "source": [
    "from pyspark.ml.evaluation import MulticlassClassificationEvaluator"
   ]
  },
  {
   "cell_type": "code",
   "execution_count": 21,
   "metadata": {},
   "outputs": [],
   "source": [
    "# For Accuracy\n",
    "acc_evac = MulticlassClassificationEvaluator(predictionCol='prediction', labelCol='PrivateIndex',\n",
    "                                             metricName='accuracy')\n",
    "\n",
    "# For precision\n",
    "prec_evac = MulticlassClassificationEvaluator(predictionCol='prediction', labelCol='PrivateIndex',\n",
    "                                             metricName='weightedPrecision')\n",
    "\n",
    "# For recall\n",
    "rec_evac = MulticlassClassificationEvaluator(predictionCol='prediction', labelCol='PrivateIndex',\n",
    "                                             metricName='weightedRecall')\n",
    "\n",
    "# For f1 score\n",
    "f1_evac = MulticlassClassificationEvaluator(predictionCol='prediction', labelCol='PrivateIndex',\n",
    "                                             metricName='f1')"
   ]
  },
  {
   "cell_type": "code",
   "execution_count": 22,
   "metadata": {},
   "outputs": [],
   "source": [
    "# DTC Metrics\n",
    "acc_res = acc_evac.evaluate(dtc_predictions)\n",
    "\n",
    "pres_res = prec_evac.evaluate(dtc_predictions)\n",
    "\n",
    "recall_res = rec_evac.evaluate(dtc_predictions)\n",
    "\n",
    "f1_res = f1_evac.evaluate(dtc_predictions)"
   ]
  },
  {
   "cell_type": "code",
   "execution_count": 24,
   "metadata": {},
   "outputs": [
    {
     "name": "stdout",
     "output_type": "stream",
     "text": [
      "DTC Test Accuracy Score = 92.27%\n",
      "DTC Test Error = 0.08%\n",
      "\n",
      "DTC Test Precision Score = 92.24%\n",
      "DTC Test Error = 0.08%\n",
      "\n",
      "DTC Test Recall Score = 92.27%\n",
      "DTC Test Error = 0.08%\n",
      "\n",
      "DTC Test F1 Score = 92.12%\n",
      "DTC Test Error = 0.08%\n"
     ]
    }
   ],
   "source": [
    "print(\"DTC Test Accuracy Score = {:.2f}%\".format(acc_res * 100))\n",
    "print(\"DTC Test Error = {:.2f}%\".format(1.0 - acc_res))\n",
    "print()\n",
    "\n",
    "print(\"DTC Test Precision Score = {:.2f}%\".format(pres_res * 100))\n",
    "print(\"DTC Test Error = {:.2f}%\".format(1.0 - pres_res))\n",
    "print()\n",
    "\n",
    "print(\"DTC Test Recall Score = {:.2f}%\".format(recall_res * 100))\n",
    "print(\"DTC Test Error = {:.2f}%\".format(1.0 - recall_res))\n",
    "print()\n",
    "\n",
    "print(\"DTC Test F1 Score = {:.2f}%\".format(f1_res * 100))\n",
    "print(\"DTC Test Error = {:.2f}%\".format(1.0 - f1_res))"
   ]
  },
  {
   "cell_type": "code",
   "execution_count": 25,
   "metadata": {},
   "outputs": [],
   "source": [
    "# RFC Metrics\n",
    "acc_res = acc_evac.evaluate(rfc_predictions)\n",
    "\n",
    "pres_res = prec_evac.evaluate(rfc_predictions)\n",
    "\n",
    "recall_res = rec_evac.evaluate(rfc_predictions)\n",
    "\n",
    "f1_res = f1_evac.evaluate(rfc_predictions)"
   ]
  },
  {
   "cell_type": "code",
   "execution_count": 26,
   "metadata": {},
   "outputs": [
    {
     "name": "stdout",
     "output_type": "stream",
     "text": [
      "RFC Test Accuracy Score = 95.28%\n",
      "RFC Test Error = 0.05%\n",
      "\n",
      "RFC Test Precision Score = 95.34%\n",
      "RFC Test Error = 0.05%\n",
      "\n",
      "RFC Test Recall Score = 95.28%\n",
      "RFC Test Error = 0.05%\n",
      "\n",
      "RFC Test F1 Score = 95.20%\n",
      "RFC Test Error = 0.05%\n"
     ]
    }
   ],
   "source": [
    "print(\"RFC Test Accuracy Score = {:.2f}%\".format(acc_res * 100))\n",
    "print(\"RFC Test Error = {:.2f}%\".format(1.0 - acc_res))\n",
    "print()\n",
    "\n",
    "print(\"RFC Test Precision Score = {:.2f}%\".format(pres_res * 100))\n",
    "print(\"RFC Test Error = {:.2f}%\".format(1.0 - pres_res))\n",
    "print()\n",
    "\n",
    "print(\"RFC Test Recall Score = {:.2f}%\".format(recall_res * 100))\n",
    "print(\"RFC Test Error = {:.2f}%\".format(1.0 - recall_res))\n",
    "print()\n",
    "\n",
    "print(\"RFC Test F1 Score = {:.2f}%\".format(f1_res * 100))\n",
    "print(\"RFC Test Error = {:.2f}%\".format(1.0 - f1_res))"
   ]
  },
  {
   "cell_type": "code",
   "execution_count": 27,
   "metadata": {},
   "outputs": [],
   "source": [
    "# GBT Metrics\n",
    "acc_res = acc_evac.evaluate(gbt_predictions)\n",
    "\n",
    "pres_res = prec_evac.evaluate(gbt_predictions)\n",
    "\n",
    "recall_res = rec_evac.evaluate(gbt_predictions)\n",
    "\n",
    "f1_res = f1_evac.evaluate(gbt_predictions)"
   ]
  },
  {
   "cell_type": "code",
   "execution_count": 28,
   "metadata": {},
   "outputs": [
    {
     "name": "stdout",
     "output_type": "stream",
     "text": [
      "GBT Test Accuracy Score = 93.56%\n",
      "GBT Test Error = 0.06%\n",
      "\n",
      "GBT Test Precision Score = 93.51%\n",
      "GBT Test Error = 0.06%\n",
      "\n",
      "GBT Test Recall Score = 93.56%\n",
      "GBT Test Error = 0.06%\n",
      "\n",
      "GBT Test F1 Score = 93.52%\n",
      "GBT Test Error = 0.06%\n"
     ]
    }
   ],
   "source": [
    "print(\"GBT Test Accuracy Score = {:.2f}%\".format(acc_res * 100))\n",
    "print(\"GBT Test Error = {:.2f}%\".format(1.0 - acc_res))\n",
    "print()\n",
    "\n",
    "print(\"GBT Test Precision Score = {:.2f}%\".format(pres_res * 100))\n",
    "print(\"GBT Test Error = {:.2f}%\".format(1.0 - pres_res))\n",
    "print()\n",
    "\n",
    "print(\"GBT Test Recall Score = {:.2f}%\".format(recall_res * 100))\n",
    "print(\"GBT Test Error = {:.2f}%\".format(1.0 - recall_res))\n",
    "print()\n",
    "\n",
    "print(\"GBT Test F1 Score = {:.2f}%\".format(f1_res * 100))\n",
    "print(\"GBT Test Error = {:.2f}%\".format(1.0 - f1_res))"
   ]
  },
  {
   "cell_type": "markdown",
   "metadata": {},
   "source": [
    "Interesting! Optional Assignment - play around with the parameters of each of these models, can you squeeze some more accuracy out of them? Or is the data the limiting factor?"
   ]
  }
 ],
 "metadata": {
  "anaconda-cloud": {},
  "kernelspec": {
   "display_name": "Python 3",
   "language": "python",
   "name": "python3"
  },
  "language_info": {
   "codemirror_mode": {
    "name": "ipython",
    "version": 3
   },
   "file_extension": ".py",
   "mimetype": "text/x-python",
   "name": "python",
   "nbconvert_exporter": "python",
   "pygments_lexer": "ipython3",
   "version": "3.6.5"
  }
 },
 "nbformat": 4,
 "nbformat_minor": 1
}
