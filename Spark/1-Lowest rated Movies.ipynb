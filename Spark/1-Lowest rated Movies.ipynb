{
 "cells": [
  {
   "cell_type": "markdown",
   "metadata": {},
   "source": [
    "## Spark\n",
    "\n",
    "### Find Lowest rated Movies in the IMDB ml-100k dataset"
   ]
  },
  {
   "cell_type": "code",
   "execution_count": 1,
   "metadata": {},
   "outputs": [],
   "source": [
    "from pyspark import SparkConf, SparkContext\n"
   ]
  },
  {
   "cell_type": "code",
   "execution_count": 2,
   "metadata": {},
   "outputs": [],
   "source": [
    "# This function just creates a Python \"dictionary\" we can later\n",
    "# use to convert movie ID's to movie names while printing out\n",
    "# the final results.\n",
    "\n",
    "def loadMovieNames():\n",
    "    movieNames = {}\n",
    "    with open(\"ml-100k/u.item\") as f:\n",
    "        for line in f:\n",
    "            fields = line.split('|')\n",
    "            movieNames[int(fields[0])] = fields[1]\n",
    "    return movieNames\n"
   ]
  },
  {
   "cell_type": "code",
   "execution_count": 3,
   "metadata": {},
   "outputs": [],
   "source": [
    "# Take each line of u.data and convert it to (movieID, (rating, 1.0))\n",
    "# This way we can then add up all the ratings for each movie, and\n",
    "# the total number of ratings for each movie (which lets us compute the average)\n",
    "\n",
    "def parseInput(line):\n",
    "    fields = line.split()\n",
    "    return (int(fields[1]), (float(fields[2]), 1.0))\n"
   ]
  },
  {
   "cell_type": "code",
   "execution_count": 4,
   "metadata": {},
   "outputs": [],
   "source": [
    "# The main script - create our SparkContext\n",
    "conf = SparkConf().setAppName(\"WorstMovies\")\n",
    "sc = SparkContext(conf = conf)"
   ]
  },
  {
   "cell_type": "code",
   "execution_count": 5,
   "metadata": {},
   "outputs": [],
   "source": [
    "# Load up our movie ID -> movie name lookup table\n",
    "movieNames = loadMovieNames()\n",
    "\n",
    "# Load up the raw u.data file\n",
    "#lines = sc.textFile(\"hdfs:///user/maria_dev/u.data\")\n",
    "lines = sc.textFile(\"file:///C:/Users/SanmiLee/Desktop/SanmiLeeAI/spark/ml-100k/u.data\")\n"
   ]
  },
  {
   "cell_type": "code",
   "execution_count": 6,
   "metadata": {},
   "outputs": [],
   "source": [
    "# Convert to (movieID, (rating, 1.0))\n",
    "movieRatings = lines.map(parseInput)"
   ]
  },
  {
   "cell_type": "code",
   "execution_count": 7,
   "metadata": {},
   "outputs": [],
   "source": [
    "# Reduce to (movieID, (sumOfRatings, totalRatings))\n",
    "ratingTotalsAndCount = movieRatings.reduceByKey(lambda movie1, movie2: ( movie1[0] + movie2[0], movie1[1] + movie2[1] ) )\n"
   ]
  },
  {
   "cell_type": "code",
   "execution_count": 8,
   "metadata": {},
   "outputs": [],
   "source": [
    "# Map to (rating, averageRating)\n",
    "averageRatings = ratingTotalsAndCount.mapValues(lambda totalAndCount : totalAndCount[0] / totalAndCount[1])"
   ]
  },
  {
   "cell_type": "code",
   "execution_count": 9,
   "metadata": {},
   "outputs": [],
   "source": [
    "# Sort by average rating\n",
    "sortedMovies = averageRatings.sortBy(lambda x: x[1])"
   ]
  },
  {
   "cell_type": "code",
   "execution_count": 10,
   "metadata": {},
   "outputs": [],
   "source": [
    "# Take the top 10 results\n",
    "results = sortedMovies.take(10)"
   ]
  },
  {
   "cell_type": "code",
   "execution_count": 11,
   "metadata": {},
   "outputs": [
    {
     "name": "stdout",
     "output_type": "stream",
     "text": [
      "Amityville: Dollhouse (1996) 1.0\n",
      "Somebody to Love (1994) 1.0\n",
      "Every Other Weekend (1990) 1.0\n",
      "Homage (1995) 1.0\n",
      "3 Ninjas: High Noon At Mega Mountain (1998) 1.0\n",
      "Bird of Prey (1996) 1.0\n",
      "Power 98 (1995) 1.0\n",
      "Beyond Bedlam (1993) 1.0\n",
      "Falling in Love Again (1980) 1.0\n",
      "T-Men (1947) 1.0\n"
     ]
    }
   ],
   "source": [
    "# Print them out:\n",
    "for result in results:\n",
    "    print(movieNames[result[0]], result[1])"
   ]
  },
  {
   "cell_type": "code",
   "execution_count": null,
   "metadata": {},
   "outputs": [],
   "source": [
    "\n",
    "# Stop the session\n",
    "spark.stop()"
   ]
  }
 ],
 "metadata": {
  "kernelspec": {
   "display_name": "Python 3",
   "language": "python",
   "name": "python3"
  },
  "language_info": {
   "codemirror_mode": {
    "name": "ipython",
    "version": 3
   },
   "file_extension": ".py",
   "mimetype": "text/x-python",
   "name": "python",
   "nbconvert_exporter": "python",
   "pygments_lexer": "ipython3",
   "version": "3.6.5"
  }
 },
 "nbformat": 4,
 "nbformat_minor": 2
}
