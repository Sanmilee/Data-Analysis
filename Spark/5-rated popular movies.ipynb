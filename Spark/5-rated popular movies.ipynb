{
 "cells": [
  {
   "cell_type": "code",
   "execution_count": 1,
   "metadata": {},
   "outputs": [],
   "source": [
    "from pyspark import SparkConf, SparkContext\n"
   ]
  },
  {
   "cell_type": "code",
   "execution_count": 2,
   "metadata": {},
   "outputs": [],
   "source": [
    "# This function just creates a Python \"dictionary\" we can later\n",
    "# use to convert movie ID's to movie names while printing out\n",
    "# the final results.\n",
    "def loadMovieNames():\n",
    "    movieNames = {}\n",
    "    with open(\"ml-100k/u.item\") as f:\n",
    "        for line in f:\n",
    "            fields = line.split('|')\n",
    "            movieNames[int(fields[0])] = fields[1]\n",
    "    return movieNames"
   ]
  },
  {
   "cell_type": "code",
   "execution_count": 3,
   "metadata": {},
   "outputs": [],
   "source": [
    "# Take each line of u.data and convert it to (movieID, (rating, 1.0))\n",
    "# This way we can then add up all the ratings for each movie, and\n",
    "# the total number of ratings for each movie (which lets us compute the average)\n",
    "def parseInput(line):\n",
    "    fields = line.split()\n",
    "    return (int(fields[1]), (float(fields[2]), 1.0))\n"
   ]
  },
  {
   "cell_type": "code",
   "execution_count": 4,
   "metadata": {},
   "outputs": [],
   "source": [
    "# The main script - create our SparkContext\n",
    "conf = SparkConf().setAppName(\"WorstMovies\")\n",
    "sc = SparkContext(conf = conf)\n",
    "\n",
    "# Load up our movie ID -> movie name lookup table\n",
    "movieNames = loadMovieNames()\n",
    "\n",
    "# Load up the raw u.data file\n",
    "lines = sc.textFile(\"file:///C:/Users/SanmiLee/Desktop/SanmiLeeAI/spark/ml-100k/u.data\")"
   ]
  },
  {
   "cell_type": "code",
   "execution_count": 5,
   "metadata": {},
   "outputs": [],
   "source": [
    "# Convert to (movieID, (rating, 1.0))\n",
    "movieRatings = lines.map(parseInput)\n",
    "\n",
    "# Reduce to (movieID, (sumOfRatings, totalRatings))\n",
    "ratingTotalsAndCount = movieRatings.reduceByKey(lambda movie1, movie2: ( movie1[0] + movie2[0], movie1[1] + movie2[1] ) )\n",
    "\n",
    "# Filter out movies rated 10 or fewer times\n",
    "popularTotalsAndCount = ratingTotalsAndCount.filter(lambda x: x[1][1] > 10)\n",
    "\n",
    "# Map to (rating, averageRating)\n",
    "averageRatings = popularTotalsAndCount.mapValues(lambda totalAndCount : totalAndCount[0] / totalAndCount[1])\n",
    "\n",
    "# Sort by average rating\n",
    "sortedMovies = averageRatings.sortBy(lambda x: x[1])\n",
    "\n",
    "# Take the top 10 results\n",
    "results = sortedMovies.take(10)\n"
   ]
  },
  {
   "cell_type": "code",
   "execution_count": 6,
   "metadata": {},
   "outputs": [
    {
     "name": "stdout",
     "output_type": "stream",
     "text": [
      "Children of the Corn: The Gathering (1996) 1.3157894736842106\n",
      "Body Parts (1991) 1.6153846153846154\n",
      "Amityville II: The Possession (1982) 1.6428571428571428\n",
      "Lawnmower Man 2: Beyond Cyberspace (1996) 1.7142857142857142\n",
      "Robocop 3 (1993) 1.7272727272727273\n",
      "Free Willy 3: The Rescue (1997) 1.7407407407407407\n",
      "Gone Fishin' (1997) 1.8181818181818181\n",
      "Ready to Wear (Pret-A-Porter) (1994) 1.8333333333333333\n",
      "Solo (1996) 1.8333333333333333\n",
      "Vampire in Brooklyn (1995) 1.8333333333333333\n"
     ]
    }
   ],
   "source": [
    "# Print them out:\n",
    "for result in results:\n",
    "    print(movieNames[result[0]], result[1])\n"
   ]
  },
  {
   "cell_type": "code",
   "execution_count": null,
   "metadata": {},
   "outputs": [],
   "source": []
  }
 ],
 "metadata": {
  "kernelspec": {
   "display_name": "Python 3",
   "language": "python",
   "name": "python3"
  },
  "language_info": {
   "codemirror_mode": {
    "name": "ipython",
    "version": 3
   },
   "file_extension": ".py",
   "mimetype": "text/x-python",
   "name": "python",
   "nbconvert_exporter": "python",
   "pygments_lexer": "ipython3",
   "version": "3.6.5"
  }
 },
 "nbformat": 4,
 "nbformat_minor": 2
}
