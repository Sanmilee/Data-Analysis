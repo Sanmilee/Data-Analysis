{
 "cells": [
  {
   "cell_type": "markdown",
   "metadata": {},
   "source": [
    "## Spark\n",
    "\n",
    "#### Lowest rated popular movies imdb mk-100k u.item dataset"
   ]
  },
  {
   "cell_type": "code",
   "execution_count": 1,
   "metadata": {},
   "outputs": [],
   "source": [
    "# export SPARK_MAJOR_VERSION=2\n",
    "\n",
    "from pyspark.sql import SparkSession\n",
    "from pyspark.sql import Row\n",
    "from pyspark.sql import functions"
   ]
  },
  {
   "cell_type": "code",
   "execution_count": 2,
   "metadata": {},
   "outputs": [],
   "source": [
    "def loadMovieNames():\n",
    "    movieNames = {}\n",
    "    with open(\"ml-100k/u.item\") as f:\n",
    "        for line in f:\n",
    "            fields = line.split('|')\n",
    "            movieNames[int(fields[0])] = fields[1]\n",
    "    return movieNames"
   ]
  },
  {
   "cell_type": "code",
   "execution_count": 3,
   "metadata": {},
   "outputs": [],
   "source": [
    "def parseInput(line):\n",
    "    fields = line.split()\n",
    "    return Row(movieID = int(fields[1]), rating = float(fields[2]))\n"
   ]
  },
  {
   "cell_type": "code",
   "execution_count": 4,
   "metadata": {},
   "outputs": [],
   "source": [
    "# Create a SparkSession (the config bit is only for Windows!)\n",
    "spark = SparkSession.builder.appName(\"PopularMovies\").getOrCreate()\n",
    "\n",
    "# Load up our movie ID -> name dictionary\n",
    "movieNames = loadMovieNames()\n"
   ]
  },
  {
   "cell_type": "code",
   "execution_count": 5,
   "metadata": {},
   "outputs": [],
   "source": [
    "# Get the raw data\n",
    "lines = spark.sparkContext.textFile(\"file:///C:/Users/SanmiLee/Desktop/SanmiLeeAI/spark/ml-100k/u.data\")\n",
    "\n",
    "# Convert it to a RDD of Row objects with (movieID, rating)\n",
    "movies = lines.map(parseInput)\n",
    "\n",
    "# Convert that to a DataFrame\n",
    "movieDataset = spark.createDataFrame(movies)\n"
   ]
  },
  {
   "cell_type": "code",
   "execution_count": 12,
   "metadata": {},
   "outputs": [],
   "source": [
    "# Create an ALS collaborative filtering model from the complete data set\n",
    "als = ALS(maxIter=5, regParam=0.01, userCol=\"userID\", itemCol=\"movieID\", ratingCol=\"rating\")\n",
    "model = als.fit(ratings)\n"
   ]
  },
  {
   "cell_type": "code",
   "execution_count": 6,
   "metadata": {},
   "outputs": [],
   "source": [
    "# Compute average rating for each movieID\n",
    "averageRatings = movieDataset.groupBy(\"movieID\").avg(\"rating\")\n",
    "\n",
    "# Compute count of ratings for each movieID\n",
    "counts = movieDataset.groupBy(\"movieID\").count()\n",
    "\n",
    "# Join the two together (We now have movieID, avg(rating), and count columns)\n",
    "averagesAndCounts = counts.join(averageRatings, \"movieID\")\n",
    "\n",
    "# Filter movies rated 10 or fewer times\n",
    "popularAveragesAndCounts = averagesAndCounts.filter(\"count > 10\")\n",
    "\n",
    "# Pull the top 10 results\n",
    "topTen = popularAveragesAndCounts.orderBy(\"avg(rating)\").take(10)\n"
   ]
  },
  {
   "cell_type": "code",
   "execution_count": 7,
   "metadata": {},
   "outputs": [
    {
     "name": "stdout",
     "output_type": "stream",
     "text": [
      "Children of the Corn: The Gathering (1996) 19 1.3157894736842106\n",
      "Body Parts (1991) 13 1.6153846153846154\n",
      "Amityville II: The Possession (1982) 14 1.6428571428571428\n",
      "Lawnmower Man 2: Beyond Cyberspace (1996) 21 1.7142857142857142\n",
      "Robocop 3 (1993) 11 1.7272727272727273\n",
      "Free Willy 3: The Rescue (1997) 27 1.7407407407407407\n",
      "Gone Fishin' (1997) 11 1.8181818181818181\n",
      "Solo (1996) 12 1.8333333333333333\n",
      "Ready to Wear (Pret-A-Porter) (1994) 18 1.8333333333333333\n",
      "Vampire in Brooklyn (1995) 12 1.8333333333333333\n"
     ]
    }
   ],
   "source": [
    "# Print them out, converting movie ID's to names as we go.\n",
    "for movie in topTen:\n",
    "    print (movieNames[movie[0]], movie[1], movie[2])\n"
   ]
  },
  {
   "cell_type": "code",
   "execution_count": 8,
   "metadata": {},
   "outputs": [],
   "source": [
    "# Stop the session\n",
    "spark.stop()"
   ]
  },
  {
   "cell_type": "code",
   "execution_count": null,
   "metadata": {},
   "outputs": [],
   "source": []
  }
 ],
 "metadata": {
  "kernelspec": {
   "display_name": "Python 3",
   "language": "python",
   "name": "python3"
  },
  "language_info": {
   "codemirror_mode": {
    "name": "ipython",
    "version": 3
   },
   "file_extension": ".py",
   "mimetype": "text/x-python",
   "name": "python",
   "nbconvert_exporter": "python",
   "pygments_lexer": "ipython3",
   "version": "3.6.5"
  }
 },
 "nbformat": 4,
 "nbformat_minor": 2
}
